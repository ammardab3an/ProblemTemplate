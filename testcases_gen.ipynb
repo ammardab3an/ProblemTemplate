{
 "cells": [
  {
   "cell_type": "code",
   "execution_count": 1,
   "metadata": {},
   "outputs": [],
   "source": [
    "from random import seed, random\n",
    "\n",
    "def testcases_gen(n, min_a, max_a, k, test_idx):\n",
    "    return ('.\\\\testcases_gen.exe {} {} {} {} 1> .\\\\testcases\\\\input\\\\input{}.txt'.format(\n",
    "        n, min_a, max_a, k, test_idx\n",
    "    ))\n",
    "\n",
    "def answers_0(test_idx):\n",
    "    return ('(type .\\\\testcases\\\\input\\\\input{0}.txt | .\\\\solution_0.exe) 1> .\\\\testcases\\\\output\\\\output{0}.txt'.format(\n",
    "        test_idx\n",
    "    ))\n",
    "\n",
    "def answers_1(test_idx):\n",
    "    return ('(type .\\\\testcases\\\\input\\\\input{0}.txt | .\\\\solution_1.exe) 1> .\\\\testcases\\\\output_1\\\\output{0}.txt'.format(\n",
    "        test_idx\n",
    "    ))\n",
    "    \n",
    "def answers_cmp(test_idx):\n",
    "    return ('.\\\\wcmp.exe .\\\\testcases\\\\input\\\\input{0}.txt .\\\\testcases\\\\output_1\\\\output{0}.txt .\\\\testcases\\\\output\\\\output{0}.txt'.format(\n",
    "        test_idx\n",
    "    ))"
   ]
  },
  {
   "cell_type": "code",
   "execution_count": 4,
   "metadata": {},
   "outputs": [
    {
     "name": "stdout",
     "output_type": "stream",
     "text": [
      ".\\testcases_gen.exe 10 -10 10 0.13436424411240122 1> .\\testcases\\input\\input0.txt\n",
      ".\\testcases_gen.exe 10 -10 10 0.8474337369372327 1> .\\testcases\\input\\input1.txt\n",
      ".\\testcases_gen.exe 10 -10 10 0.763774618976614 1> .\\testcases\\input\\input2.txt\n",
      ".\\testcases_gen.exe 100 -1000 1000 0.2550690257394217 1> .\\testcases\\input\\input3.txt\n",
      ".\\testcases_gen.exe 1000 -1000 1000 0.49543508709194095 1> .\\testcases\\input\\input4.txt\n",
      ".\\testcases_gen.exe 1000 -1000000 1000000 0.4494910647887381 1> .\\testcases\\input\\input5.txt\n",
      ".\\testcases_gen.exe 1000 -1000000000 1000000000 0.651592972722763 1> .\\testcases\\input\\input6.txt\n",
      ".\\testcases_gen.exe 100000 -1000000000 1000000000 0.7887233511355132 1> .\\testcases\\input\\input7.txt\n",
      ".\\testcases_gen.exe 100000 -1000000000 1000000000 0.0938595867742349 1> .\\testcases\\input\\input8.txt\n",
      ".\\testcases_gen.exe 100000 -1000000000 1000000000 0.02834747652200631 1> .\\testcases\\input\\input9.txt\n",
      ".\\testcases_gen.exe 100000 -1000000000 1000000000 0.8357651039198697 1> .\\testcases\\input\\input10.txt\n",
      ".\\testcases_gen.exe 100000 -1000000000 1000000000 0.43276706790505337 1> .\\testcases\\input\\input11.txt\n",
      ".\\testcases_gen.exe 100000 -1000000000 1000000000 0.762280082457942 1> .\\testcases\\input\\input12.txt\n",
      ".\\testcases_gen.exe 100000 -1000000000 1000000000 0.0021060533511106927 1> .\\testcases\\input\\input13.txt\n",
      ".\\testcases_gen.exe 100000 -1000000000 1000000000 0.4453871940548014 1> .\\testcases\\input\\input14.txt\n",
      "(type .\\testcases\\input\\input0.txt | .\\solution_0.exe) 1> .\\testcases\\output\\output0.txt\n",
      "(type .\\testcases\\input\\input1.txt | .\\solution_0.exe) 1> .\\testcases\\output\\output1.txt\n",
      "(type .\\testcases\\input\\input2.txt | .\\solution_0.exe) 1> .\\testcases\\output\\output2.txt\n",
      "(type .\\testcases\\input\\input3.txt | .\\solution_0.exe) 1> .\\testcases\\output\\output3.txt\n",
      "(type .\\testcases\\input\\input4.txt | .\\solution_0.exe) 1> .\\testcases\\output\\output4.txt\n",
      "(type .\\testcases\\input\\input5.txt | .\\solution_0.exe) 1> .\\testcases\\output\\output5.txt\n",
      "(type .\\testcases\\input\\input6.txt | .\\solution_0.exe) 1> .\\testcases\\output\\output6.txt\n",
      "(type .\\testcases\\input\\input7.txt | .\\solution_0.exe) 1> .\\testcases\\output\\output7.txt\n",
      "(type .\\testcases\\input\\input8.txt | .\\solution_0.exe) 1> .\\testcases\\output\\output8.txt\n",
      "(type .\\testcases\\input\\input9.txt | .\\solution_0.exe) 1> .\\testcases\\output\\output9.txt\n",
      "(type .\\testcases\\input\\input10.txt | .\\solution_0.exe) 1> .\\testcases\\output\\output10.txt\n",
      "(type .\\testcases\\input\\input11.txt | .\\solution_0.exe) 1> .\\testcases\\output\\output11.txt\n",
      "(type .\\testcases\\input\\input12.txt | .\\solution_0.exe) 1> .\\testcases\\output\\output12.txt\n",
      "(type .\\testcases\\input\\input13.txt | .\\solution_0.exe) 1> .\\testcases\\output\\output13.txt\n",
      "(type .\\testcases\\input\\input14.txt | .\\solution_0.exe) 1> .\\testcases\\output\\output14.txt\n",
      "(type .\\testcases\\input\\input0.txt | .\\solution_1.exe) 1> .\\testcases\\output_1\\output0.txt\n",
      "(type .\\testcases\\input\\input1.txt | .\\solution_1.exe) 1> .\\testcases\\output_1\\output1.txt\n",
      "(type .\\testcases\\input\\input2.txt | .\\solution_1.exe) 1> .\\testcases\\output_1\\output2.txt\n",
      "(type .\\testcases\\input\\input3.txt | .\\solution_1.exe) 1> .\\testcases\\output_1\\output3.txt\n",
      "(type .\\testcases\\input\\input4.txt | .\\solution_1.exe) 1> .\\testcases\\output_1\\output4.txt\n",
      "(type .\\testcases\\input\\input5.txt | .\\solution_1.exe) 1> .\\testcases\\output_1\\output5.txt\n",
      "(type .\\testcases\\input\\input6.txt | .\\solution_1.exe) 1> .\\testcases\\output_1\\output6.txt\n",
      "(type .\\testcases\\input\\input7.txt | .\\solution_1.exe) 1> .\\testcases\\output_1\\output7.txt\n",
      "(type .\\testcases\\input\\input8.txt | .\\solution_1.exe) 1> .\\testcases\\output_1\\output8.txt\n",
      "(type .\\testcases\\input\\input9.txt | .\\solution_1.exe) 1> .\\testcases\\output_1\\output9.txt\n",
      "(type .\\testcases\\input\\input10.txt | .\\solution_1.exe) 1> .\\testcases\\output_1\\output10.txt\n",
      "(type .\\testcases\\input\\input11.txt | .\\solution_1.exe) 1> .\\testcases\\output_1\\output11.txt\n",
      "(type .\\testcases\\input\\input12.txt | .\\solution_1.exe) 1> .\\testcases\\output_1\\output12.txt\n",
      "(type .\\testcases\\input\\input13.txt | .\\solution_1.exe) 1> .\\testcases\\output_1\\output13.txt\n",
      "(type .\\testcases\\input\\input14.txt | .\\solution_1.exe) 1> .\\testcases\\output_1\\output14.txt\n",
      ".\\wcmp.exe .\\testcases\\input\\input0.txt .\\testcases\\output_1\\output0.txt .\\testcases\\output\\output0.txt\n",
      ".\\wcmp.exe .\\testcases\\input\\input1.txt .\\testcases\\output_1\\output1.txt .\\testcases\\output\\output1.txt\n",
      ".\\wcmp.exe .\\testcases\\input\\input2.txt .\\testcases\\output_1\\output2.txt .\\testcases\\output\\output2.txt\n",
      ".\\wcmp.exe .\\testcases\\input\\input3.txt .\\testcases\\output_1\\output3.txt .\\testcases\\output\\output3.txt\n",
      ".\\wcmp.exe .\\testcases\\input\\input4.txt .\\testcases\\output_1\\output4.txt .\\testcases\\output\\output4.txt\n",
      ".\\wcmp.exe .\\testcases\\input\\input5.txt .\\testcases\\output_1\\output5.txt .\\testcases\\output\\output5.txt\n",
      ".\\wcmp.exe .\\testcases\\input\\input6.txt .\\testcases\\output_1\\output6.txt .\\testcases\\output\\output6.txt\n",
      ".\\wcmp.exe .\\testcases\\input\\input7.txt .\\testcases\\output_1\\output7.txt .\\testcases\\output\\output7.txt\n",
      ".\\wcmp.exe .\\testcases\\input\\input8.txt .\\testcases\\output_1\\output8.txt .\\testcases\\output\\output8.txt\n",
      ".\\wcmp.exe .\\testcases\\input\\input9.txt .\\testcases\\output_1\\output9.txt .\\testcases\\output\\output9.txt\n",
      ".\\wcmp.exe .\\testcases\\input\\input10.txt .\\testcases\\output_1\\output10.txt .\\testcases\\output\\output10.txt\n",
      ".\\wcmp.exe .\\testcases\\input\\input11.txt .\\testcases\\output_1\\output11.txt .\\testcases\\output\\output11.txt\n",
      ".\\wcmp.exe .\\testcases\\input\\input12.txt .\\testcases\\output_1\\output12.txt .\\testcases\\output\\output12.txt\n",
      ".\\wcmp.exe .\\testcases\\input\\input13.txt .\\testcases\\output_1\\output13.txt .\\testcases\\output\\output13.txt\n",
      ".\\wcmp.exe .\\testcases\\input\\input14.txt .\\testcases\\output_1\\output14.txt .\\testcases\\output\\output14.txt\n"
     ]
    }
   ],
   "source": [
    "seed(1)\n",
    "\n",
    "testcases = [\n",
    "    [10, -10, 10, random()],\n",
    "    [10, -10, 10, random()],\n",
    "    [10, -10, 10, random()],\n",
    "    [100, -1000, 1000, random()],\n",
    "    [1000, -1000, 1000, random()],\n",
    "    [1000, -1000000, 1000000, random()],\n",
    "    [1000, -1000000000, 1000000000, random()],\n",
    "    [100000, -1000000000, 1000000000, random()],\n",
    "    [100000, -1000000000, 1000000000, random()],\n",
    "    [100000, -1000000000, 1000000000, random()],\n",
    "    [100000, -1000000000, 1000000000, random()],\n",
    "    [100000, -1000000000, 1000000000, random()],\n",
    "    [100000, -1000000000, 1000000000, random()],\n",
    "    [100000, -1000000000, 1000000000, random()],\n",
    "    [100000, -1000000000, 1000000000, random()]\n",
    "]\n",
    "\n",
    "with open(\"testcases_gen.cmd\", \"w\") as output_file:\n",
    "    for i in range(len(testcases)):\n",
    "        print(testcases_gen(*testcases[i], i), file=output_file)\n",
    "        print(testcases_gen(*testcases[i], i))\n",
    "\n",
    "with open(\"answers_0.cmd\", \"w\") as output_file:\n",
    "    for i in range(len(testcases)):\n",
    "        print(answers_0(i), file=output_file)\n",
    "        print(answers_0(i))\n",
    "\n",
    "with open(\"answers_1.cmd\", \"w\") as output_file:\n",
    "    for i in range(len(testcases)):\n",
    "        print(answers_1(i), file=output_file)\n",
    "        print(answers_1(i))\n",
    "    \n",
    "with open(\"answers_cmp.cmd\", \"w\") as output_file:\n",
    "    for i in range(len(testcases)):\n",
    "        print(answers_cmp(i), file=output_file)\n",
    "        print(answers_cmp(i))"
   ]
  },
  {
   "cell_type": "code",
   "execution_count": 3,
   "metadata": {},
   "outputs": [
    {
     "name": "stdout",
     "output_type": "stream",
     "text": [
      "10 -10 10 0.13436424411240122\n"
     ]
    }
   ],
   "source": [
    "print(*testcases[0])"
   ]
  }
 ],
 "metadata": {
  "interpreter": {
   "hash": "e75910cb52118fae78c7a2bf95de568100ab3b2073906ebc2fc1e32ec84f4c4f"
  },
  "kernelspec": {
   "display_name": "Python 3.10.0 64-bit",
   "language": "python",
   "name": "python3"
  },
  "language_info": {
   "codemirror_mode": {
    "name": "ipython",
    "version": 3
   },
   "file_extension": ".py",
   "mimetype": "text/x-python",
   "name": "python",
   "nbconvert_exporter": "python",
   "pygments_lexer": "ipython3",
   "version": "3.10.0"
  },
  "orig_nbformat": 4
 },
 "nbformat": 4,
 "nbformat_minor": 2
}
