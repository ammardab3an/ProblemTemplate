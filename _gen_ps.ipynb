{
 "cells": [
  {
   "cell_type": "code",
   "execution_count": 5,
   "metadata": {},
   "outputs": [],
   "source": [
    "from random import seed, random\n",
    "seed(1)\n",
    "\n",
    "def testcases_gen(n, min_a, max_a, k, test_idx):\n",
    "    return ('.\\\\testcases_gen.exe {} {} {} {} 1> .\\\\testcases\\\\input\\\\input{}.txt'.format(\n",
    "        n, min_a, max_a, k, test_idx\n",
    "    ))\n",
    "\n",
    "def answers_gen(test_idx):\n",
    "    return ('(cat .\\\\testcases\\\\input\\\\input{0}.txt | .\\\\main.exe) 1> .\\\\testcases\\\\output\\\\output{0}.txt'.format(\n",
    "        test_idx\n",
    "    ))\n",
    "\n",
    "def answers_gen_brute(test_idx):\n",
    "    return ('(cat .\\\\testcases\\\\input\\\\input{0}.txt | .\\\\brute.exe) 1> .\\\\testcases\\\\output_brute\\\\output{0}.txt'.format(\n",
    "        test_idx\n",
    "    ))\n",
    "    \n",
    "def comp_gen_brute(test_idx):\n",
    "    return ('.\\\\wcmp.exe .\\\\testcases\\\\input\\\\input{0}.txt .\\\\testcases\\\\output_brute\\\\output{0}.txt .\\\\testcases\\\\output\\\\output{0}.txt'.format(\n",
    "        test_idx\n",
    "    ))"
   ]
  },
  {
   "cell_type": "code",
   "execution_count": 6,
   "metadata": {},
   "outputs": [
    {
     "name": "stdout",
     "output_type": "stream",
     "text": [
      ".\\testcases_gen.exe 8 1 5 0.13436424411240122 1> .\\testcases\\input\\input0.txt\n",
      ".\\testcases_gen.exe 10 1 10 0.8474337369372327 1> .\\testcases\\input\\input1.txt\n",
      ".\\testcases_gen.exe 20 -10 10 0.763774618976614 1> .\\testcases\\input\\input2.txt\n",
      ".\\testcases_gen.exe 100 -1000 1000 0.2550690257394217 1> .\\testcases\\input\\input3.txt\n",
      ".\\testcases_gen.exe 1000 -1000 1000 0.49543508709194095 1> .\\testcases\\input\\input4.txt\n",
      ".\\testcases_gen.exe 1000 -1000000 1000000 0.4494910647887381 1> .\\testcases\\input\\input5.txt\n",
      ".\\testcases_gen.exe 1000 -1000000000 1000000000 0.651592972722763 1> .\\testcases\\input\\input6.txt\n",
      ".\\testcases_gen.exe 1000000 -1000000000 1000000000 0.7887233511355132 1> .\\testcases\\input\\input7.txt\n",
      ".\\testcases_gen.exe 1000000 -1000000000 1000000000 0.0938595867742349 1> .\\testcases\\input\\input8.txt\n",
      ".\\testcases_gen.exe 1000000 -1000000000 1000000000 0.02834747652200631 1> .\\testcases\\input\\input9.txt\n",
      ".\\testcases_gen.exe 1000000 -1000000000 1000000000 0.8357651039198697 1> .\\testcases\\input\\input10.txt\n",
      ".\\testcases_gen.exe 1000000 -1000000000 1000000000 0.43276706790505337 1> .\\testcases\\input\\input11.txt\n",
      ".\\testcases_gen.exe 1000000 -1000000000 1000000000 0.762280082457942 1> .\\testcases\\input\\input12.txt\n",
      ".\\testcases_gen.exe 1000000 -1000000000 1000000000 0.0021060533511106927 1> .\\testcases\\input\\input13.txt\n",
      ".\\testcases_gen.exe 1000000 -1000000000 1000000000 0.4453871940548014 1> .\\testcases\\input\\input14.txt\n",
      "(cat .\\testcases\\input\\input0.txt | .\\main.exe) 1> .\\testcases\\output\\output0.txt\n",
      "(cat .\\testcases\\input\\input1.txt | .\\main.exe) 1> .\\testcases\\output\\output1.txt\n",
      "(cat .\\testcases\\input\\input2.txt | .\\main.exe) 1> .\\testcases\\output\\output2.txt\n",
      "(cat .\\testcases\\input\\input3.txt | .\\main.exe) 1> .\\testcases\\output\\output3.txt\n",
      "(cat .\\testcases\\input\\input4.txt | .\\main.exe) 1> .\\testcases\\output\\output4.txt\n",
      "(cat .\\testcases\\input\\input5.txt | .\\main.exe) 1> .\\testcases\\output\\output5.txt\n",
      "(cat .\\testcases\\input\\input6.txt | .\\main.exe) 1> .\\testcases\\output\\output6.txt\n",
      "(cat .\\testcases\\input\\input7.txt | .\\main.exe) 1> .\\testcases\\output\\output7.txt\n",
      "(cat .\\testcases\\input\\input8.txt | .\\main.exe) 1> .\\testcases\\output\\output8.txt\n",
      "(cat .\\testcases\\input\\input9.txt | .\\main.exe) 1> .\\testcases\\output\\output9.txt\n",
      "(cat .\\testcases\\input\\input10.txt | .\\main.exe) 1> .\\testcases\\output\\output10.txt\n",
      "(cat .\\testcases\\input\\input11.txt | .\\main.exe) 1> .\\testcases\\output\\output11.txt\n",
      "(cat .\\testcases\\input\\input12.txt | .\\main.exe) 1> .\\testcases\\output\\output12.txt\n",
      "(cat .\\testcases\\input\\input13.txt | .\\main.exe) 1> .\\testcases\\output\\output13.txt\n",
      "(cat .\\testcases\\input\\input14.txt | .\\main.exe) 1> .\\testcases\\output\\output14.txt\n",
      "(cat .\\testcases\\input\\input0.txt | .\\brute.exe) 1> .\\testcases\\output_brute\\output0.txt\n",
      "(cat .\\testcases\\input\\input1.txt | .\\brute.exe) 1> .\\testcases\\output_brute\\output1.txt\n",
      "(cat .\\testcases\\input\\input2.txt | .\\brute.exe) 1> .\\testcases\\output_brute\\output2.txt\n",
      "(cat .\\testcases\\input\\input3.txt | .\\brute.exe) 1> .\\testcases\\output_brute\\output3.txt\n",
      "(cat .\\testcases\\input\\input4.txt | .\\brute.exe) 1> .\\testcases\\output_brute\\output4.txt\n",
      "(cat .\\testcases\\input\\input5.txt | .\\brute.exe) 1> .\\testcases\\output_brute\\output5.txt\n",
      "(cat .\\testcases\\input\\input6.txt | .\\brute.exe) 1> .\\testcases\\output_brute\\output6.txt\n",
      "(cat .\\testcases\\input\\input7.txt | .\\brute.exe) 1> .\\testcases\\output_brute\\output7.txt\n",
      "(cat .\\testcases\\input\\input8.txt | .\\brute.exe) 1> .\\testcases\\output_brute\\output8.txt\n",
      "(cat .\\testcases\\input\\input9.txt | .\\brute.exe) 1> .\\testcases\\output_brute\\output9.txt\n",
      "(cat .\\testcases\\input\\input10.txt | .\\brute.exe) 1> .\\testcases\\output_brute\\output10.txt\n",
      "(cat .\\testcases\\input\\input11.txt | .\\brute.exe) 1> .\\testcases\\output_brute\\output11.txt\n",
      "(cat .\\testcases\\input\\input12.txt | .\\brute.exe) 1> .\\testcases\\output_brute\\output12.txt\n",
      "(cat .\\testcases\\input\\input13.txt | .\\brute.exe) 1> .\\testcases\\output_brute\\output13.txt\n",
      "(cat .\\testcases\\input\\input14.txt | .\\brute.exe) 1> .\\testcases\\output_brute\\output14.txt\n",
      ".\\wcmp.exe .\\testcases\\input\\input0.txt .\\testcases\\output_brute\\output0.txt .\\testcases\\output\\output0.txt\n",
      ".\\wcmp.exe .\\testcases\\input\\input1.txt .\\testcases\\output_brute\\output1.txt .\\testcases\\output\\output1.txt\n",
      ".\\wcmp.exe .\\testcases\\input\\input2.txt .\\testcases\\output_brute\\output2.txt .\\testcases\\output\\output2.txt\n",
      ".\\wcmp.exe .\\testcases\\input\\input3.txt .\\testcases\\output_brute\\output3.txt .\\testcases\\output\\output3.txt\n",
      ".\\wcmp.exe .\\testcases\\input\\input4.txt .\\testcases\\output_brute\\output4.txt .\\testcases\\output\\output4.txt\n",
      ".\\wcmp.exe .\\testcases\\input\\input5.txt .\\testcases\\output_brute\\output5.txt .\\testcases\\output\\output5.txt\n",
      ".\\wcmp.exe .\\testcases\\input\\input6.txt .\\testcases\\output_brute\\output6.txt .\\testcases\\output\\output6.txt\n",
      ".\\wcmp.exe .\\testcases\\input\\input7.txt .\\testcases\\output_brute\\output7.txt .\\testcases\\output\\output7.txt\n",
      ".\\wcmp.exe .\\testcases\\input\\input8.txt .\\testcases\\output_brute\\output8.txt .\\testcases\\output\\output8.txt\n",
      ".\\wcmp.exe .\\testcases\\input\\input9.txt .\\testcases\\output_brute\\output9.txt .\\testcases\\output\\output9.txt\n",
      ".\\wcmp.exe .\\testcases\\input\\input10.txt .\\testcases\\output_brute\\output10.txt .\\testcases\\output\\output10.txt\n",
      ".\\wcmp.exe .\\testcases\\input\\input11.txt .\\testcases\\output_brute\\output11.txt .\\testcases\\output\\output11.txt\n",
      ".\\wcmp.exe .\\testcases\\input\\input12.txt .\\testcases\\output_brute\\output12.txt .\\testcases\\output\\output12.txt\n",
      ".\\wcmp.exe .\\testcases\\input\\input13.txt .\\testcases\\output_brute\\output13.txt .\\testcases\\output\\output13.txt\n",
      ".\\wcmp.exe .\\testcases\\input\\input14.txt .\\testcases\\output_brute\\output14.txt .\\testcases\\output\\output14.txt\n"
     ]
    }
   ],
   "source": [
    "\n",
    "testcases = [\n",
    "    [8, 1, 5, random()],\n",
    "    [10, 1, 10, random()],\n",
    "    [20, -10, 10, random()],\n",
    "    [100, -1000, 1000, random()],\n",
    "    [1000, -1000, 1000, random()],\n",
    "    [1000, -1000000, 1000000, random()],\n",
    "    [1000, -1000000000, 1000000000, random()],\n",
    "    [1000000, -1000000000, 1000000000, random()],\n",
    "    [1000000, -1000000000, 1000000000, random()],\n",
    "    [1000000, -1000000000, 1000000000, random()],\n",
    "    [1000000, -1000000000, 1000000000, random()],\n",
    "    [1000000, -1000000000, 1000000000, random()],\n",
    "    [1000000, -1000000000, 1000000000, random()],\n",
    "    [1000000, -1000000000, 1000000000, random()],\n",
    "    [1000000, -1000000000, 1000000000, random()]\n",
    "]\n",
    "\n",
    "with open(\"gen_testcases.cmd\", \"w\") as output_file:\n",
    "    for i in range(len(testcases)):\n",
    "        print(testcases_gen(*testcases[i], i))\n",
    "        print(testcases_gen(*testcases[i], i), file=output_file)\n",
    "\n",
    "with open(\"gen_answers.cmd\", \"w\") as output_file:\n",
    "    for i in range(len(testcases)):\n",
    "        print(answers_gen(i))\n",
    "        print(answers_gen(i), file=output_file)\n",
    "\n",
    "with open(\"gen_answers_brute.cmd\", \"w\") as output_file:\n",
    "    for i in range(len(testcases)):\n",
    "        print(answers_gen_brute(i))\n",
    "        print(answers_gen_brute(i), file=output_file)\n",
    "    \n",
    "with open(\"comp_brute.cmd\", \"w\") as output_file:\n",
    "    for i in range(len(testcases)):\n",
    "        print(comp_gen_brute(i))\n",
    "        print(comp_gen_brute(i), file=output_file)"
   ]
  },
  {
   "cell_type": "code",
   "execution_count": 3,
   "metadata": {},
   "outputs": [
    {
     "name": "stdout",
     "output_type": "stream",
     "text": [
      "3 5 1 1\n"
     ]
    }
   ],
   "source": [
    "print(*testcases[0])"
   ]
  }
 ],
 "metadata": {
  "interpreter": {
   "hash": "e75910cb52118fae78c7a2bf95de568100ab3b2073906ebc2fc1e32ec84f4c4f"
  },
  "kernelspec": {
   "display_name": "Python 3.10.0 64-bit",
   "language": "python",
   "name": "python3"
  },
  "language_info": {
   "codemirror_mode": {
    "name": "ipython",
    "version": 3
   },
   "file_extension": ".py",
   "mimetype": "text/x-python",
   "name": "python",
   "nbconvert_exporter": "python",
   "pygments_lexer": "ipython3",
   "version": "3.10.0"
  },
  "orig_nbformat": 4
 },
 "nbformat": 4,
 "nbformat_minor": 2
}
